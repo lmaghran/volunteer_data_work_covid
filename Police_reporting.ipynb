{
 "cells": [
  {
   "cell_type": "markdown",
   "metadata": {},
   "source": [
    "# Graphing PD Call Types by Date"
   ]
  },
  {
   "cell_type": "markdown",
   "metadata": {},
   "source": [
    "Below I import and clean the data.  I also add a \"DateTime\" column which allows for manipulation of the date and time format"
   ]
  },
  {
   "cell_type": "code",
   "execution_count": 1,
   "metadata": {},
   "outputs": [
    {
     "name": "stdout",
     "output_type": "stream",
     "text": [
      "What is the exact name of your file? (include .csv)Event_Detail.csv\n"
     ]
    }
   ],
   "source": [
    "import numpy as np\n",
    "import pandas as pd\n",
    "import matplotlib as pt\n",
    "import matplotlib.pyplot as plt\n",
    "import datetime as dt\n",
    "\n",
    "%matplotlib inline\n",
    "\n",
    "filename = input(\"What is the exact name of your file? (include .csv)\")\n",
    "\n"
   ]
  },
  {
   "cell_type": "code",
   "execution_count": 2,
   "metadata": {
    "scrolled": true
   },
   "outputs": [
    {
     "data": {
      "text/html": [
       "<div>\n",
       "<style scoped>\n",
       "    .dataframe tbody tr th:only-of-type {\n",
       "        vertical-align: middle;\n",
       "    }\n",
       "\n",
       "    .dataframe tbody tr th {\n",
       "        vertical-align: top;\n",
       "    }\n",
       "\n",
       "    .dataframe thead th {\n",
       "        text-align: right;\n",
       "    }\n",
       "</style>\n",
       "<table border=\"1\" class=\"dataframe\">\n",
       "  <thead>\n",
       "    <tr style=\"text-align: right;\">\n",
       "      <th></th>\n",
       "      <th>Agency Event Number</th>\n",
       "      <th>Primary Unit ID</th>\n",
       "      <th>Agency ID</th>\n",
       "      <th>Agency Name</th>\n",
       "      <th>Create Datetime</th>\n",
       "      <th>Dispatch Group</th>\n",
       "      <th>Event Type Code</th>\n",
       "      <th>Event Priority</th>\n",
       "      <th>Event Type</th>\n",
       "      <th>Event SubType Code</th>\n",
       "      <th>Event SubType</th>\n",
       "      <th>Event Beat</th>\n",
       "      <th>Event ESZ</th>\n",
       "      <th>Full Address</th>\n",
       "      <th>Full Location</th>\n",
       "    </tr>\n",
       "  </thead>\n",
       "  <tbody>\n",
       "    <tr>\n",
       "      <th>0</th>\n",
       "      <td>PP170010001</td>\n",
       "      <td>80X5</td>\n",
       "      <td>PAPD</td>\n",
       "      <td>Palo Alto Police Department</td>\n",
       "      <td>2017/01/01 00:11:11</td>\n",
       "      <td>PAPD</td>\n",
       "      <td>1095</td>\n",
       "      <td>4.0</td>\n",
       "      <td>PED/BIKE STOP</td>\n",
       "      <td>NaN</td>\n",
       "      <td>NaN</td>\n",
       "      <td>PA2</td>\n",
       "      <td>80100.0</td>\n",
       "      <td>2375 EMBARCADERO RD PA</td>\n",
       "      <td>BYXBEE PARK 2375 EMBARCADERO RD PA</td>\n",
       "    </tr>\n",
       "    <tr>\n",
       "      <th>1</th>\n",
       "      <td>PP170010002</td>\n",
       "      <td>80L31</td>\n",
       "      <td>PAPD</td>\n",
       "      <td>Palo Alto Police Department</td>\n",
       "      <td>2017/01/01 00:13:45</td>\n",
       "      <td>PAPD</td>\n",
       "      <td>ANIMAL</td>\n",
       "      <td>3.0</td>\n",
       "      <td>ANIMAL</td>\n",
       "      <td>N</td>\n",
       "      <td>NOISY</td>\n",
       "      <td>PA3</td>\n",
       "      <td>88300.0</td>\n",
       "      <td>3316 MIDDLEFIELD RD PA</td>\n",
       "      <td>3316 MIDDLEFIELD RD PA</td>\n",
       "    </tr>\n",
       "    <tr>\n",
       "      <th>2</th>\n",
       "      <td>PP170010003</td>\n",
       "      <td>80L31</td>\n",
       "      <td>PAPD</td>\n",
       "      <td>Palo Alto Police Department</td>\n",
       "      <td>2017/01/01 00:17:41</td>\n",
       "      <td>PAPD</td>\n",
       "      <td>1195</td>\n",
       "      <td>4.0</td>\n",
       "      <td>TRAFFIC STOP</td>\n",
       "      <td>NaN</td>\n",
       "      <td>NaN</td>\n",
       "      <td>DWNTNPA</td>\n",
       "      <td>80500.0</td>\n",
       "      <td>LYTTON AVE / HIGH ST PA</td>\n",
       "      <td>LYTTON AVE / HIGH ST PA</td>\n",
       "    </tr>\n",
       "    <tr>\n",
       "      <th>3</th>\n",
       "      <td>PP170010004</td>\n",
       "      <td>80L39</td>\n",
       "      <td>PAPD</td>\n",
       "      <td>Palo Alto Police Department</td>\n",
       "      <td>2017/01/01 00:27:49</td>\n",
       "      <td>PAPD</td>\n",
       "      <td>1033</td>\n",
       "      <td>2.0</td>\n",
       "      <td>ALARM</td>\n",
       "      <td>R</td>\n",
       "      <td>RESIDENTIAL</td>\n",
       "      <td>PA4</td>\n",
       "      <td>81600.0</td>\n",
       "      <td>895 ILIMA CT PA</td>\n",
       "      <td>895 ILIMA CT PA</td>\n",
       "    </tr>\n",
       "    <tr>\n",
       "      <th>4</th>\n",
       "      <td>PP170010005</td>\n",
       "      <td>80L41</td>\n",
       "      <td>PAPD</td>\n",
       "      <td>Palo Alto Police Department</td>\n",
       "      <td>2017/01/01 00:32:23</td>\n",
       "      <td>PAPD</td>\n",
       "      <td>1195</td>\n",
       "      <td>4.0</td>\n",
       "      <td>TRAFFIC STOP</td>\n",
       "      <td>NaN</td>\n",
       "      <td>NaN</td>\n",
       "      <td>PA3</td>\n",
       "      <td>88300.0</td>\n",
       "      <td>ALMA ST / EL DORADO AVE PA</td>\n",
       "      <td>ALMA ST / EL DORADO AVE PA</td>\n",
       "    </tr>\n",
       "  </tbody>\n",
       "</table>\n",
       "</div>"
      ],
      "text/plain": [
       "  Agency Event Number Primary Unit ID Agency ID                  Agency Name  \\\n",
       "0         PP170010001            80X5      PAPD  Palo Alto Police Department   \n",
       "1         PP170010002           80L31      PAPD  Palo Alto Police Department   \n",
       "2         PP170010003           80L31      PAPD  Palo Alto Police Department   \n",
       "3         PP170010004           80L39      PAPD  Palo Alto Police Department   \n",
       "4         PP170010005           80L41      PAPD  Palo Alto Police Department   \n",
       "\n",
       "       Create Datetime Dispatch Group Event Type Code  Event Priority  \\\n",
       "0  2017/01/01 00:11:11           PAPD            1095             4.0   \n",
       "1  2017/01/01 00:13:45           PAPD          ANIMAL             3.0   \n",
       "2  2017/01/01 00:17:41           PAPD            1195             4.0   \n",
       "3  2017/01/01 00:27:49           PAPD            1033             2.0   \n",
       "4  2017/01/01 00:32:23           PAPD            1195             4.0   \n",
       "\n",
       "      Event Type Event SubType Code Event SubType Event Beat  Event ESZ  \\\n",
       "0  PED/BIKE STOP                NaN           NaN        PA2    80100.0   \n",
       "1         ANIMAL                  N         NOISY        PA3    88300.0   \n",
       "2   TRAFFIC STOP                NaN           NaN    DWNTNPA    80500.0   \n",
       "3          ALARM                  R   RESIDENTIAL        PA4    81600.0   \n",
       "4   TRAFFIC STOP                NaN           NaN        PA3    88300.0   \n",
       "\n",
       "                  Full Address                       Full Location  \n",
       "0      2375 EMBARCADERO RD PA   BYXBEE PARK 2375 EMBARCADERO RD PA  \n",
       "1      3316 MIDDLEFIELD RD PA               3316 MIDDLEFIELD RD PA  \n",
       "2     LYTTON AVE / HIGH ST PA              LYTTON AVE / HIGH ST PA  \n",
       "3             895 ILIMA CT PA                      895 ILIMA CT PA  \n",
       "4  ALMA ST / EL DORADO AVE PA           ALMA ST / EL DORADO AVE PA  "
      ]
     },
     "execution_count": 2,
     "metadata": {},
     "output_type": "execute_result"
    }
   ],
   "source": [
    "all_data = pd.read_csv(filename)\n",
    "all_data.head()"
   ]
  },
  {
   "cell_type": "code",
   "execution_count": 3,
   "metadata": {},
   "outputs": [
    {
     "data": {
      "text/plain": [
       "2017-11-03    257\n",
       "2018-07-11    236\n",
       "2017-09-28    233\n",
       "2018-07-06    230\n",
       "2017-09-15    228\n",
       "             ... \n",
       "2020-03-18     65\n",
       "2020-03-17     63\n",
       "2020-03-15     60\n",
       "2020-03-14     60\n",
       "2019-12-25     57\n",
       "Name: DateYr, Length: 1200, dtype: int64"
      ]
     },
     "execution_count": 3,
     "metadata": {},
     "output_type": "execute_result"
    }
   ],
   "source": [
    "# Removing \"/\" from call types- not valid for filenames\n",
    "all_data[\"Event Type\"] = all_data[\"Event Type\"].str.replace('/','_')\n",
    "\n",
    "#Changing date and year formats\n",
    "\n",
    "all_data[\"Date\"]= pd.to_datetime(all_data['Create Datetime'])\n",
    "all_data['DateYr'] = pd.DatetimeIndex(all_data['Date']).date\n",
    "all_data[\"Date\"]= pd.DatetimeIndex(all_data['DateYr']).strftime('%B %d')\n",
    "all_data[\"Year\"]= pd.to_datetime(all_data['Create Datetime'])\n",
    "all_data['Year'] = pd.DatetimeIndex(all_data['Year']).year\n",
    "\n",
    "all_data[\"Year\"].value_counts()\n",
    "all_data[\"DateYr\"].value_counts()\n",
    "\n"
   ]
  },
  {
   "cell_type": "code",
   "execution_count": 4,
   "metadata": {},
   "outputs": [],
   "source": [
    "# This shows an agregation of total events by day.\n",
    "pivot = all_data.pivot_table(values = \"Agency Event Number\", index = 'DateYr', aggfunc=\"count\")"
   ]
  },
  {
   "cell_type": "code",
   "execution_count": 5,
   "metadata": {},
   "outputs": [
    {
     "data": {
      "text/html": [
       "<div>\n",
       "<style scoped>\n",
       "    .dataframe tbody tr th:only-of-type {\n",
       "        vertical-align: middle;\n",
       "    }\n",
       "\n",
       "    .dataframe tbody tr th {\n",
       "        vertical-align: top;\n",
       "    }\n",
       "\n",
       "    .dataframe thead th {\n",
       "        text-align: right;\n",
       "    }\n",
       "</style>\n",
       "<table border=\"1\" class=\"dataframe\">\n",
       "  <thead>\n",
       "    <tr style=\"text-align: right;\">\n",
       "      <th></th>\n",
       "      <th>Agency Event Number</th>\n",
       "    </tr>\n",
       "  </thead>\n",
       "  <tbody>\n",
       "    <tr>\n",
       "      <th>count</th>\n",
       "      <td>1200.000000</td>\n",
       "    </tr>\n",
       "    <tr>\n",
       "      <th>mean</th>\n",
       "      <td>146.400833</td>\n",
       "    </tr>\n",
       "    <tr>\n",
       "      <th>std</th>\n",
       "      <td>26.744462</td>\n",
       "    </tr>\n",
       "    <tr>\n",
       "      <th>min</th>\n",
       "      <td>57.000000</td>\n",
       "    </tr>\n",
       "    <tr>\n",
       "      <th>25%</th>\n",
       "      <td>129.000000</td>\n",
       "    </tr>\n",
       "    <tr>\n",
       "      <th>50%</th>\n",
       "      <td>147.000000</td>\n",
       "    </tr>\n",
       "    <tr>\n",
       "      <th>75%</th>\n",
       "      <td>164.000000</td>\n",
       "    </tr>\n",
       "    <tr>\n",
       "      <th>max</th>\n",
       "      <td>257.000000</td>\n",
       "    </tr>\n",
       "  </tbody>\n",
       "</table>\n",
       "</div>"
      ],
      "text/plain": [
       "       Agency Event Number\n",
       "count          1200.000000\n",
       "mean            146.400833\n",
       "std              26.744462\n",
       "min              57.000000\n",
       "25%             129.000000\n",
       "50%             147.000000\n",
       "75%             164.000000\n",
       "max             257.000000"
      ]
     },
     "execution_count": 5,
     "metadata": {},
     "output_type": "execute_result"
    }
   ],
   "source": [
    "#descriptive statistics on count of calls per day\n",
    "pivot.describe()"
   ]
  },
  {
   "cell_type": "code",
   "execution_count": 6,
   "metadata": {},
   "outputs": [
    {
     "data": {
      "text/plain": [
       "TRAFFIC STOP                 33138\n",
       "MEDICAL INFORMATION          14477\n",
       "PED_BIKE STOP                 9484\n",
       "911                           9480\n",
       "PHONE CALL                    9190\n",
       "                             ...  \n",
       "GENERAL EXPLOSION                1\n",
       "STORM DRAIN POLLUTION            1\n",
       "EXPLOSION                        1\n",
       "VEGETATION FIRE                  1\n",
       "COURT ORDERED RECORD SEAL        1\n",
       "Name: Event Type, Length: 153, dtype: int64"
      ]
     },
     "execution_count": 6,
     "metadata": {},
     "output_type": "execute_result"
    }
   ],
   "source": [
    "#The values of each type of call for the dataset\n",
    "events = all_data[\"Event Type\"]\n",
    "events.value_counts()"
   ]
  },
  {
   "cell_type": "code",
   "execution_count": 7,
   "metadata": {},
   "outputs": [
    {
     "name": "stdout",
     "output_type": "stream",
     "text": [
      "This is the total number of call types: 153\n"
     ]
    }
   ],
   "source": [
    "call_type_list= events.value_counts().index.tolist()\n",
    "print(\"This is the total number of call types:\", len(call_type_list))\n",
    "\n",
    "years = all_data['Year'].value_counts().index.tolist()\n"
   ]
  },
  {
   "cell_type": "code",
   "execution_count": 12,
   "metadata": {},
   "outputs": [
    {
     "data": {
      "image/png": "[encoded data removed]",
      "text/plain": [
       "<Figure size 432x288 with 4 Axes>"
      ]
     },
     "metadata": {
      "needs_background": "light"
     },
     "output_type": "display_data"
    },
    {
     "data": {
      "image/png": "[encoded data removed]",
      "text/plain": [
       "<Figure size 432x288 with 4 Axes>"
      ]
     },
     "metadata": {
      "needs_background": "light"
     },
     "output_type": "display_data"
    }
   ],
   "source": [
    "\n",
    "#The number of total dates\n",
    "total_dates= len(all_data[\"Date\"].value_counts())\n",
    "\n",
    "# fig = plt.figure(figsize=(16, 20))\n",
    "\n",
    "for call_type in call_type_list[:2]:\n",
    "    data_by_ct= all_data.loc[all_data['Event Type'] == call_type]\n",
    "    fig, axs = plt.subplots(len(years), sharex=True, sharey=True, gridspec_kw={'hspace': 0})\n",
    "    fig.suptitle(\"{} Call Type by Date\".format(call_type))\n",
    "    for i, year in enumerate(years):\n",
    "        filter_ct_year = data_by_ct[data_by_ct[\"Year\"] == year]\n",
    "        axs[i].hist(filter_ct_year[\"Date\"], bins=total_dates)\n",
    "for ax in axs.flat:\n",
    "    ax.label_outer()\n",
    "\n",
    "#         plt.xticks(rotation=90)\n",
    "\n",
    "# Hide x labels and tick labels for all but bottom plot.\n",
    "#     for ax in axs:\n",
    "#         ax.label_outer()\n",
    "#     data_by_ct= all_data.loc[all_data['Event Type'] == call_type]\n",
    "#     ax = fig.add_subplot(1,1)\n",
    "#     ax.hist(data_by_ct[\"Date\"], bins=total_dates)\n",
    "#     ax.set_title(\"{}s\".format(call_type.title()))\n",
    "#     ax.set_ylabel(\"Total calls\")\n",
    "#     plt.xticks(rotation=90)\n",
    "#     if call_type in call_type_dict:\n",
    "#         call_type= call_type_dict[call_type]\n",
    "    plt.savefig('{}.pdf'.format(call_type))\n",
    "   "
   ]
  }
 ],
 "metadata": {
  "kernelspec": {
   "display_name": "Python 3",
   "language": "python",
   "name": "python3"
  },
  "language_info": {
   "codemirror_mode": {
    "name": "ipython",
    "version": 3
   },
   "file_extension": ".py",
   "mimetype": "text/x-python",
   "name": "python",
   "nbconvert_exporter": "python",
   "pygments_lexer": "ipython3",
   "version": "3.6.9"
  }
 },
 "nbformat": 4,
 "nbformat_minor": 4
}
